{
 "cells": [
  {
   "cell_type": "markdown",
   "id": "1f3bd253-6c5c-476e-9f5c-66c3cd95a917",
   "metadata": {},
   "source": [
    "# MiBiPreT data analysis example"
   ]
  },
  {
   "cell_type": "code",
   "execution_count": null,
   "id": "0e76b1ee-1489-4555-ae2e-de25c83062ae",
   "metadata": {},
   "outputs": [],
   "source": [
    "#!pip install mibipret"
   ]
  },
  {
   "cell_type": "code",
   "execution_count": null,
   "id": "469da207-3ff5-41f9-8714-a36d4969e887",
   "metadata": {},
   "outputs": [],
   "source": [
    "# import sys\n",
    "# path = '/home/alraune/GitHub/MiBiPreT/mibipret'\n",
    "# sys.path.append(path) # append the path to module"
   ]
  },
  {
   "cell_type": "code",
   "execution_count": null,
   "id": "0189b936-3d5a-4173-9bab-9cc1b4ee58aa",
   "metadata": {},
   "outputs": [],
   "source": [
    "from mibipret.data.data import load_csv, check_columns, check_units #, example_data #, check_values"
   ]
  },
  {
   "cell_type": "code",
   "execution_count": null,
   "id": "41046747-d157-41a0-afa6-3947099a0a9e",
   "metadata": {},
   "outputs": [],
   "source": [
    "file_path = './grift_BTEXNII.csv'"
   ]
  },
  {
   "cell_type": "code",
   "execution_count": null,
   "id": "fca03c8c-c5de-4cb1-ba5b-47f2341b85bb",
   "metadata": {},
   "outputs": [],
   "source": [
    "data,units = load_csv(file_path,verbose=True)"
   ]
  },
  {
   "cell_type": "code",
   "execution_count": null,
   "id": "d20401ea-8d13-43de-8c3d-b3086a777f6a",
   "metadata": {},
   "outputs": [],
   "source": [
    "data = check_columns(data, verbose = True)"
   ]
  },
  {
   "cell_type": "code",
   "execution_count": null,
   "id": "4f81bd28-4d17-4fe2-a75b-f6afe5a0cba6",
   "metadata": {},
   "outputs": [],
   "source": [
    "check_list = check_units(data)\n",
    "print(\"quantities to be checked on units: \\n\",check_list)"
   ]
  },
  {
   "cell_type": "code",
   "execution_count": null,
   "id": "68d3ad7a-880b-440e-b8a0-f6de99c33fd9",
   "metadata": {},
   "outputs": [],
   "source": []
  }
 ],
 "metadata": {
  "kernelspec": {
   "display_name": "Python 3 (ipykernel)",
   "language": "python",
   "name": "python3"
  },
  "language_info": {
   "codemirror_mode": {
    "name": "ipython",
    "version": 3
   },
   "file_extension": ".py",
   "mimetype": "text/x-python",
   "name": "python",
   "nbconvert_exporter": "python",
   "pygments_lexer": "ipython3",
   "version": "3.10.12"
  }
 },
 "nbformat": 4,
 "nbformat_minor": 5
}
